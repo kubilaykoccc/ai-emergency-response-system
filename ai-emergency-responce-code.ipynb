{
 "cells": [
  {
   "cell_type": "markdown",
   "id": "0e9adbaf",
   "metadata": {},
   "source": [
    "# AI-Powered Emergency Health Monitoring System\n",
    "\n",
    "This notebook demonstrates a simulation of real-time vital sign monitoring using biosensor data,\n",
    "with anomaly detection, medical risk classification, and automatic alert message generation .\n",
    "\n",
    "---\n",
    "\n",
    "**Components:**\n",
    "- Data simulation (heart rate, oxygen, glucose, troponin)\n",
    "- Anomaly detection with Isolation Forest\n",
    "- Real-time Face & Motion Detection using OpenCV\n",
    "- Emergency classification via rule-based logic\n",
    "- Structured Message Generation"
   ]
  },
  {
   "cell_type": "code",
   "execution_count": 1,
   "id": "4aac20b1",
   "metadata": {},
   "outputs": [],
   "source": [
    "# --- Cell 0: Imports and Configuration ---\n",
    "import os\n",
    "import numpy as np\n",
    "import pandas as pd\n",
    "from sklearn.ensemble import IsolationForest\n",
    "import cv2\n",
    "import time\n",
    "import http.client\n",
    "import json\n",
    "\n",
    "pd.set_option('display.max_rows', None)\n",
    "pd.set_option('display.max_columns', None)\n",
    "pd.set_option('display.width', None)\n"
   ]
  },
  {
   "cell_type": "code",
   "execution_count": 2,
   "id": "6e70adda",
   "metadata": {},
   "outputs": [
    {
     "name": "stderr",
     "output_type": "stream",
     "text": [
      "/var/folders/jb/ss8qr6t96rj6n9txxq7x6y400000gn/T/ipykernel_17195/1247250789.py:3: FutureWarning: 'S' is deprecated and will be removed in a future version, please use 's' instead.\n",
      "  time_index = pd.date_range(start='2025-01-01 12:00', periods=600, freq='S')\n"
     ]
    }
   ],
   "source": [
    "# --- Cell 1: Data Simulation and Risk Labeling ---\n",
    "np.random.seed(42)\n",
    "time_index = pd.date_range(start='2025-01-01 12:00', periods=600, freq='S')\n",
    "data = pd.DataFrame({\n",
    "    'timestamp': time_index,\n",
    "    'heart_rate': np.random.normal(75, 5, 600),\n",
    "    'oxygen_saturation': np.random.normal(97, 2, 600),\n",
    "    'glucose': np.random.normal(100, 10, 600),\n",
    "})\n",
    "X = data[['heart_rate', 'oxygen_saturation', 'glucose']]\n",
    "iso_model = IsolationForest(contamination=0.18, random_state=42)\n",
    "data['risk_label'] = iso_model.fit_predict(X)\n",
    "\n",
    "data['risk_score'] = iso_model.decision_function(X)\n",
    "data['alert_message'] = ''\n",
    "\n",
    "\n"
   ]
  },
  {
   "cell_type": "code",
   "execution_count": 3,
   "id": "7ebf9c15-aaf3-4a79-a98e-74a0ca8ac0e2",
   "metadata": {},
   "outputs": [],
   "source": [
    "# --- Cell 2: Telegram HTTP Client (stdlib only) ---\n",
    "TELEGRAM_TOKEN = '7814649660:AAFVT-rc9N2sdK6N4-My5ZqLqSDJz-jJH9Y'\n",
    "CHAT_ID        = 6683274532  # Integer chat ID\n",
    "\n",
    "def send_telegram(message: str):\n",
    "    conn = http.client.HTTPSConnection('api.telegram.org')\n",
    "    payload = json.dumps({\n",
    "        'chat_id': CHAT_ID,\n",
    "        'text': message\n",
    "    })\n",
    "    headers = { 'Content-Type': 'application/json' }\n",
    "    conn.request('POST', f'/bot{TELEGRAM_TOKEN}/sendMessage', payload, headers)\n",
    "    res = conn.getresponse()\n",
    "    data = res.read().decode()\n",
    "    if res.status == 200:\n",
    "        print('[Telegram message sent]')\n",
    "    else:\n",
    "        print(f'[HTTP {res.status}] {data}')\n",
    "\n",
    "send_sms = send_telegram\n"
   ]
  },
  {
   "cell_type": "markdown",
   "id": "fd5f784d",
   "metadata": {},
   "source": [
    "###  Final Integrated Logic: AI + Real Face Detection"
   ]
  },
  {
   "cell_type": "code",
   "execution_count": 4,
   "id": "2b0802fc",
   "metadata": {
    "scrolled": true
   },
   "outputs": [],
   "source": [
    "# --- Cell 3: Check Camera Function ---\n",
    "def check_camera_flags(duration=5, diff_threshold=10, face_cascade_paths=None):\n",
    "    if face_cascade_paths is None:\n",
    "        face_cascade_paths = [\n",
    "            cv2.data.haarcascades + 'haarcascade_frontalface_default.xml',\n",
    "            cv2.data.haarcascades + 'haarcascade_profileface.xml'\n",
    "        ]\n",
    "    cascades = [cv2.CascadeClassifier(p) for p in face_cascade_paths]\n",
    "    cap = cv2.VideoCapture(0)\n",
    "    start = time.time()\n",
    "    motion_detected = False\n",
    "    face_detected = False\n",
    "\n",
    "    ret, frame = cap.read()\n",
    "    prev_gray = cv2.cvtColor(frame, cv2.COLOR_BGR2GRAY)\n",
    "\n",
    "    while time.time() - start < duration:\n",
    "        ret, frame = cap.read()\n",
    "        gray = cv2.cvtColor(frame, cv2.COLOR_BGR2GRAY)\n",
    "        if cv2.absdiff(prev_gray, gray).mean() > diff_threshold:\n",
    "            motion_detected = True\n",
    "        for cascade in cascades:\n",
    "            if len(cascade.detectMultiScale(gray, 1.3, 5)):\n",
    "                face_detected = True\n",
    "                break\n",
    "        prev_gray = gray\n",
    "\n",
    "    cap.release()\n",
    "    cv2.destroyAllWindows()\n",
    "    print(f'[DEBUG] motion_detected={motion_detected}, face_detected={face_detected}')\n",
    "    return motion_detected, face_detected"
   ]
  },
  {
   "cell_type": "code",
   "execution_count": 5,
   "id": "67f2d873-1c9e-48a1-992f-a6269e4878df",
   "metadata": {},
   "outputs": [],
   "source": [
    "# --- Cell 4: Generate Alert Message ---\n",
    "def generate_alert_message(row):\n",
    "    return (\n",
    "        f'⚠️ Emergency Alert! Measurements:\\n'\n",
    "        f'- Heart Rate: {row[\"heart_rate\"]:.1f} bpm\\n'\n",
    "        f'- O₂ Saturation: {row[\"oxygen_saturation\"]:.1f}%\\n'\n",
    "        f'- Glucose: {row[\"glucose\"]:.1f} mg/dL\\n'\n",
    "        f'Risk Score: {row[\"risk_score\"]:.3f}\\n'\n",
    "        'Please check immediately!'\n",
    "    )"
   ]
  },
  {
   "cell_type": "markdown",
   "id": "94fbda3d",
   "metadata": {},
   "source": [
    "###  Display Only Abnormal Events (Safe & Flexible)"
   ]
  },
  {
   "cell_type": "code",
   "execution_count": 6,
   "id": "7faf9372",
   "metadata": {},
   "outputs": [],
   "source": [
    "# --- Cell 5: Legacy Evaluation & Decision Logic ---\n",
    "def DeathEvaluateEmergencyRow(row):\n",
    "    return (row['heart_rate'] > 120) or (row['oxygen_saturation'] < 85)\n",
    "\n",
    "def RiskEvaluation(row):\n",
    "    return (row['risk_label'] == -1) or DeathEvaluateEmergencyRow(row)\n",
    "\n",
    "def CorrectedBasedCameraResult(motion_flag, face_flag, risk_flag):\n",
    "    return risk_flag and motion_flag and not face_flag\n",
    "\n",
    "def FinalDecisionLogic(decision_flag):\n",
    "    return decision_flag\n",
    "\n",
    "def DisplayOnlyForIDXRowEtherRows(idx, row, decision):\n",
    "    if decision:\n",
    "        print(f'Row {idx}: Emergency detected, nearby contacts have been notified -> {row.to_dict()}')\n",
    "    else:\n",
    "        print(f'Row {idx}: Normal/No Alert')"
   ]
  },
  {
   "cell_type": "markdown",
   "id": "b4f2e5ff",
   "metadata": {},
   "source": [
    "###  Final Decision Logic "
   ]
  },
  {
   "cell_type": "code",
   "execution_count": 7,
   "id": "a6cf6ed6",
   "metadata": {},
   "outputs": [
    {
     "name": "stdout",
     "output_type": "stream",
     "text": [
      "Row 0: Normal/No Alert\n",
      "Row 1: Normal/No Alert\n",
      "Row 2: Normal/No Alert\n",
      "[DEBUG] motion_detected=True, face_detected=True\n",
      "[DEBUG] motion_detected=True, face_detected=True\n",
      "[DEBUG] risk_flag=True, camera_event=False\n",
      "Row 3: Emergency detected, nearby contacts have been notified -> {'timestamp': Timestamp('2025-01-01 12:00:03'), 'heart_rate': 82.61514928204012, 'oxygen_saturation': 99.71127571760991, 'glucose': 105.43298029036389, 'risk_label': -1, 'risk_score': -0.0032369435699464155, 'alert_message': ''}\n",
      "[DEBUG] generated_alert_msg=⚠️ Emergency Alert! Measurements:\n",
      "- Heart Rate: 82.6 bpm\n",
      "- O₂ Saturation: 99.7%\n",
      "- Glucose: 105.4 mg/dL\n",
      "Risk Score: -0.003\n",
      "Please check immediately!\n",
      "[Telegram message sent]\n",
      "Row 4: Normal/No Alert\n",
      "Row 5: Normal/No Alert\n",
      "Row 6: Normal/No Alert\n",
      "Row 7: Normal/No Alert\n",
      "[DEBUG] motion_detected=False, face_detected=False\n",
      "[DEBUG] motion_detected=False, face_detected=False\n",
      "[DEBUG] risk_flag=True, camera_event=False\n",
      "Row 8: Emergency detected, nearby contacts have been notified -> {'timestamp': Timestamp('2025-01-01 12:00:08'), 'heart_rate': 72.65262807032524, 'oxygen_saturation': 93.44255950219144, 'glucose': 85.97394728200307, 'risk_label': -1, 'risk_score': -0.028980662018832204, 'alert_message': ''}\n",
      "[DEBUG] generated_alert_msg=⚠️ Emergency Alert! Measurements:\n",
      "- Heart Rate: 72.7 bpm\n",
      "- O₂ Saturation: 93.4%\n",
      "- Glucose: 86.0 mg/dL\n",
      "Risk Score: -0.029\n",
      "Please check immediately!\n",
      "[Telegram message sent]\n",
      "[DEBUG] motion_detected=False, face_detected=False\n",
      "[DEBUG] motion_detected=False, face_detected=False\n",
      "[DEBUG] risk_flag=True, camera_event=False\n",
      "Row 9: Emergency detected, nearby contacts have been notified -> {'timestamp': Timestamp('2025-01-01 12:00:09'), 'heart_rate': 77.71280021792982, 'oxygen_saturation': 99.99208862297837, 'glucose': 117.4957674318694, 'risk_label': -1, 'risk_score': -0.007942191398813914, 'alert_message': ''}\n",
      "[DEBUG] generated_alert_msg=⚠️ Emergency Alert! Measurements:\n",
      "- Heart Rate: 77.7 bpm\n",
      "- O₂ Saturation: 100.0%\n",
      "- Glucose: 117.5 mg/dL\n",
      "Risk Score: -0.008\n",
      "Please check immediately!\n",
      "[Telegram message sent]\n",
      "Row 10: Normal/No Alert\n",
      "Row 11: Normal/No Alert\n",
      "Row 12: Normal/No Alert\n",
      "[DEBUG] motion_detected=True, face_detected=True\n",
      "[DEBUG] motion_detected=True, face_detected=True\n",
      "[DEBUG] risk_flag=True, camera_event=False\n",
      "Row 13: Emergency detected, nearby contacts have been notified -> {'timestamp': Timestamp('2025-01-01 12:00:13'), 'heart_rate': 65.43359877671101, 'oxygen_saturation': 94.74902190540325, 'glucose': 108.94924376944441, 'risk_label': -1, 'risk_score': -0.04137099618305928, 'alert_message': ''}\n",
      "[DEBUG] generated_alert_msg=⚠️ Emergency Alert! Measurements:\n",
      "- Heart Rate: 65.4 bpm\n",
      "- O₂ Saturation: 94.7%\n",
      "- Glucose: 108.9 mg/dL\n",
      "Risk Score: -0.041\n",
      "Please check immediately!\n",
      "[Telegram message sent]\n",
      "[DEBUG] motion_detected=True, face_detected=True\n",
      "[DEBUG] motion_detected=True, face_detected=True\n",
      "[DEBUG] risk_flag=True, camera_event=False\n",
      "Row 14: Emergency detected, nearby contacts have been notified -> {'timestamp': Timestamp('2025-01-01 12:00:14'), 'heart_rate': 66.37541083743484, 'oxygen_saturation': 101.89150395923366, 'glucose': 97.05050321707972, 'risk_label': -1, 'risk_score': -0.06727689334927256, 'alert_message': ''}\n",
      "[DEBUG] generated_alert_msg=⚠️ Emergency Alert! Measurements:\n",
      "- Heart Rate: 66.4 bpm\n",
      "- O₂ Saturation: 101.9%\n",
      "- Glucose: 97.1 mg/dL\n",
      "Risk Score: -0.067\n",
      "Please check immediately!\n"
     ]
    },
    {
     "ename": "KeyboardInterrupt",
     "evalue": "",
     "output_type": "error",
     "traceback": [
      "\u001b[0;31m---------------------------------------------------------------------------\u001b[0m",
      "\u001b[0;31mKeyboardInterrupt\u001b[0m                         Traceback (most recent call last)",
      "Cell \u001b[0;32mIn[7], line 27\u001b[0m\n\u001b[1;32m     25\u001b[0m     msg \u001b[38;5;241m=\u001b[39m generate_alert_message(row)\n\u001b[1;32m     26\u001b[0m     \u001b[38;5;28mprint\u001b[39m(\u001b[38;5;124mf\u001b[39m\u001b[38;5;124m\"\u001b[39m\u001b[38;5;124m[DEBUG] generated_alert_msg=\u001b[39m\u001b[38;5;132;01m{\u001b[39;00mmsg\u001b[38;5;132;01m}\u001b[39;00m\u001b[38;5;124m\"\u001b[39m)  \u001b[38;5;66;03m# opsiyonel\u001b[39;00m\n\u001b[0;32m---> 27\u001b[0m     send_sms(msg)\n\u001b[1;32m     28\u001b[0m     data\u001b[38;5;241m.\u001b[39mat[idx, \u001b[38;5;124m'\u001b[39m\u001b[38;5;124malert_message\u001b[39m\u001b[38;5;124m'\u001b[39m] \u001b[38;5;241m=\u001b[39m msg\n\u001b[1;32m     29\u001b[0m \u001b[38;5;28;01melse\u001b[39;00m:\n",
      "Cell \u001b[0;32mIn[3], line 12\u001b[0m, in \u001b[0;36msend_telegram\u001b[0;34m(message)\u001b[0m\n\u001b[1;32m      7\u001b[0m payload \u001b[38;5;241m=\u001b[39m json\u001b[38;5;241m.\u001b[39mdumps({\n\u001b[1;32m      8\u001b[0m     \u001b[38;5;124m'\u001b[39m\u001b[38;5;124mchat_id\u001b[39m\u001b[38;5;124m'\u001b[39m: CHAT_ID,\n\u001b[1;32m      9\u001b[0m     \u001b[38;5;124m'\u001b[39m\u001b[38;5;124mtext\u001b[39m\u001b[38;5;124m'\u001b[39m: message\n\u001b[1;32m     10\u001b[0m })\n\u001b[1;32m     11\u001b[0m headers \u001b[38;5;241m=\u001b[39m { \u001b[38;5;124m'\u001b[39m\u001b[38;5;124mContent-Type\u001b[39m\u001b[38;5;124m'\u001b[39m: \u001b[38;5;124m'\u001b[39m\u001b[38;5;124mapplication/json\u001b[39m\u001b[38;5;124m'\u001b[39m }\n\u001b[0;32m---> 12\u001b[0m conn\u001b[38;5;241m.\u001b[39mrequest(\u001b[38;5;124m'\u001b[39m\u001b[38;5;124mPOST\u001b[39m\u001b[38;5;124m'\u001b[39m, \u001b[38;5;124mf\u001b[39m\u001b[38;5;124m'\u001b[39m\u001b[38;5;124m/bot\u001b[39m\u001b[38;5;132;01m{\u001b[39;00mTELEGRAM_TOKEN\u001b[38;5;132;01m}\u001b[39;00m\u001b[38;5;124m/sendMessage\u001b[39m\u001b[38;5;124m'\u001b[39m, payload, headers)\n\u001b[1;32m     13\u001b[0m res \u001b[38;5;241m=\u001b[39m conn\u001b[38;5;241m.\u001b[39mgetresponse()\n\u001b[1;32m     14\u001b[0m data \u001b[38;5;241m=\u001b[39m res\u001b[38;5;241m.\u001b[39mread()\u001b[38;5;241m.\u001b[39mdecode()\n",
      "File \u001b[0;32m/opt/anaconda3/lib/python3.12/http/client.py:1331\u001b[0m, in \u001b[0;36mHTTPConnection.request\u001b[0;34m(self, method, url, body, headers, encode_chunked)\u001b[0m\n\u001b[1;32m   1328\u001b[0m \u001b[38;5;28;01mdef\u001b[39;00m \u001b[38;5;21mrequest\u001b[39m(\u001b[38;5;28mself\u001b[39m, method, url, body\u001b[38;5;241m=\u001b[39m\u001b[38;5;28;01mNone\u001b[39;00m, headers\u001b[38;5;241m=\u001b[39m{}, \u001b[38;5;241m*\u001b[39m,\n\u001b[1;32m   1329\u001b[0m             encode_chunked\u001b[38;5;241m=\u001b[39m\u001b[38;5;28;01mFalse\u001b[39;00m):\n\u001b[1;32m   1330\u001b[0m \u001b[38;5;250m    \u001b[39m\u001b[38;5;124;03m\"\"\"Send a complete request to the server.\"\"\"\u001b[39;00m\n\u001b[0;32m-> 1331\u001b[0m     \u001b[38;5;28mself\u001b[39m\u001b[38;5;241m.\u001b[39m_send_request(method, url, body, headers, encode_chunked)\n",
      "File \u001b[0;32m/opt/anaconda3/lib/python3.12/http/client.py:1377\u001b[0m, in \u001b[0;36mHTTPConnection._send_request\u001b[0;34m(self, method, url, body, headers, encode_chunked)\u001b[0m\n\u001b[1;32m   1373\u001b[0m \u001b[38;5;28;01mif\u001b[39;00m \u001b[38;5;28misinstance\u001b[39m(body, \u001b[38;5;28mstr\u001b[39m):\n\u001b[1;32m   1374\u001b[0m     \u001b[38;5;66;03m# RFC 2616 Section 3.7.1 says that text default has a\u001b[39;00m\n\u001b[1;32m   1375\u001b[0m     \u001b[38;5;66;03m# default charset of iso-8859-1.\u001b[39;00m\n\u001b[1;32m   1376\u001b[0m     body \u001b[38;5;241m=\u001b[39m _encode(body, \u001b[38;5;124m'\u001b[39m\u001b[38;5;124mbody\u001b[39m\u001b[38;5;124m'\u001b[39m)\n\u001b[0;32m-> 1377\u001b[0m \u001b[38;5;28mself\u001b[39m\u001b[38;5;241m.\u001b[39mendheaders(body, encode_chunked\u001b[38;5;241m=\u001b[39mencode_chunked)\n",
      "File \u001b[0;32m/opt/anaconda3/lib/python3.12/http/client.py:1326\u001b[0m, in \u001b[0;36mHTTPConnection.endheaders\u001b[0;34m(self, message_body, encode_chunked)\u001b[0m\n\u001b[1;32m   1324\u001b[0m \u001b[38;5;28;01melse\u001b[39;00m:\n\u001b[1;32m   1325\u001b[0m     \u001b[38;5;28;01mraise\u001b[39;00m CannotSendHeader()\n\u001b[0;32m-> 1326\u001b[0m \u001b[38;5;28mself\u001b[39m\u001b[38;5;241m.\u001b[39m_send_output(message_body, encode_chunked\u001b[38;5;241m=\u001b[39mencode_chunked)\n",
      "File \u001b[0;32m/opt/anaconda3/lib/python3.12/http/client.py:1085\u001b[0m, in \u001b[0;36mHTTPConnection._send_output\u001b[0;34m(self, message_body, encode_chunked)\u001b[0m\n\u001b[1;32m   1083\u001b[0m msg \u001b[38;5;241m=\u001b[39m \u001b[38;5;124mb\u001b[39m\u001b[38;5;124m\"\u001b[39m\u001b[38;5;130;01m\\r\u001b[39;00m\u001b[38;5;130;01m\\n\u001b[39;00m\u001b[38;5;124m\"\u001b[39m\u001b[38;5;241m.\u001b[39mjoin(\u001b[38;5;28mself\u001b[39m\u001b[38;5;241m.\u001b[39m_buffer)\n\u001b[1;32m   1084\u001b[0m \u001b[38;5;28;01mdel\u001b[39;00m \u001b[38;5;28mself\u001b[39m\u001b[38;5;241m.\u001b[39m_buffer[:]\n\u001b[0;32m-> 1085\u001b[0m \u001b[38;5;28mself\u001b[39m\u001b[38;5;241m.\u001b[39msend(msg)\n\u001b[1;32m   1087\u001b[0m \u001b[38;5;28;01mif\u001b[39;00m message_body \u001b[38;5;129;01mis\u001b[39;00m \u001b[38;5;129;01mnot\u001b[39;00m \u001b[38;5;28;01mNone\u001b[39;00m:\n\u001b[1;32m   1088\u001b[0m \n\u001b[1;32m   1089\u001b[0m     \u001b[38;5;66;03m# create a consistent interface to message_body\u001b[39;00m\n\u001b[1;32m   1090\u001b[0m     \u001b[38;5;28;01mif\u001b[39;00m \u001b[38;5;28mhasattr\u001b[39m(message_body, \u001b[38;5;124m'\u001b[39m\u001b[38;5;124mread\u001b[39m\u001b[38;5;124m'\u001b[39m):\n\u001b[1;32m   1091\u001b[0m         \u001b[38;5;66;03m# Let file-like take precedence over byte-like.  This\u001b[39;00m\n\u001b[1;32m   1092\u001b[0m         \u001b[38;5;66;03m# is needed to allow the current position of mmap'ed\u001b[39;00m\n\u001b[1;32m   1093\u001b[0m         \u001b[38;5;66;03m# files to be taken into account.\u001b[39;00m\n",
      "File \u001b[0;32m/opt/anaconda3/lib/python3.12/http/client.py:1029\u001b[0m, in \u001b[0;36mHTTPConnection.send\u001b[0;34m(self, data)\u001b[0m\n\u001b[1;32m   1027\u001b[0m \u001b[38;5;28;01mif\u001b[39;00m \u001b[38;5;28mself\u001b[39m\u001b[38;5;241m.\u001b[39msock \u001b[38;5;129;01mis\u001b[39;00m \u001b[38;5;28;01mNone\u001b[39;00m:\n\u001b[1;32m   1028\u001b[0m     \u001b[38;5;28;01mif\u001b[39;00m \u001b[38;5;28mself\u001b[39m\u001b[38;5;241m.\u001b[39mauto_open:\n\u001b[0;32m-> 1029\u001b[0m         \u001b[38;5;28mself\u001b[39m\u001b[38;5;241m.\u001b[39mconnect()\n\u001b[1;32m   1030\u001b[0m     \u001b[38;5;28;01melse\u001b[39;00m:\n\u001b[1;32m   1031\u001b[0m         \u001b[38;5;28;01mraise\u001b[39;00m NotConnected()\n",
      "File \u001b[0;32m/opt/anaconda3/lib/python3.12/http/client.py:1472\u001b[0m, in \u001b[0;36mHTTPSConnection.connect\u001b[0;34m(self)\u001b[0m\n\u001b[1;32m   1469\u001b[0m \u001b[38;5;28;01melse\u001b[39;00m:\n\u001b[1;32m   1470\u001b[0m     server_hostname \u001b[38;5;241m=\u001b[39m \u001b[38;5;28mself\u001b[39m\u001b[38;5;241m.\u001b[39mhost\n\u001b[0;32m-> 1472\u001b[0m \u001b[38;5;28mself\u001b[39m\u001b[38;5;241m.\u001b[39msock \u001b[38;5;241m=\u001b[39m \u001b[38;5;28mself\u001b[39m\u001b[38;5;241m.\u001b[39m_context\u001b[38;5;241m.\u001b[39mwrap_socket(\u001b[38;5;28mself\u001b[39m\u001b[38;5;241m.\u001b[39msock,\n\u001b[1;32m   1473\u001b[0m                                       server_hostname\u001b[38;5;241m=\u001b[39mserver_hostname)\n",
      "File \u001b[0;32m/opt/anaconda3/lib/python3.12/ssl.py:455\u001b[0m, in \u001b[0;36mSSLContext.wrap_socket\u001b[0;34m(self, sock, server_side, do_handshake_on_connect, suppress_ragged_eofs, server_hostname, session)\u001b[0m\n\u001b[1;32m    449\u001b[0m \u001b[38;5;28;01mdef\u001b[39;00m \u001b[38;5;21mwrap_socket\u001b[39m(\u001b[38;5;28mself\u001b[39m, sock, server_side\u001b[38;5;241m=\u001b[39m\u001b[38;5;28;01mFalse\u001b[39;00m,\n\u001b[1;32m    450\u001b[0m                 do_handshake_on_connect\u001b[38;5;241m=\u001b[39m\u001b[38;5;28;01mTrue\u001b[39;00m,\n\u001b[1;32m    451\u001b[0m                 suppress_ragged_eofs\u001b[38;5;241m=\u001b[39m\u001b[38;5;28;01mTrue\u001b[39;00m,\n\u001b[1;32m    452\u001b[0m                 server_hostname\u001b[38;5;241m=\u001b[39m\u001b[38;5;28;01mNone\u001b[39;00m, session\u001b[38;5;241m=\u001b[39m\u001b[38;5;28;01mNone\u001b[39;00m):\n\u001b[1;32m    453\u001b[0m     \u001b[38;5;66;03m# SSLSocket class handles server_hostname encoding before it calls\u001b[39;00m\n\u001b[1;32m    454\u001b[0m     \u001b[38;5;66;03m# ctx._wrap_socket()\u001b[39;00m\n\u001b[0;32m--> 455\u001b[0m     \u001b[38;5;28;01mreturn\u001b[39;00m \u001b[38;5;28mself\u001b[39m\u001b[38;5;241m.\u001b[39msslsocket_class\u001b[38;5;241m.\u001b[39m_create(\n\u001b[1;32m    456\u001b[0m         sock\u001b[38;5;241m=\u001b[39msock,\n\u001b[1;32m    457\u001b[0m         server_side\u001b[38;5;241m=\u001b[39mserver_side,\n\u001b[1;32m    458\u001b[0m         do_handshake_on_connect\u001b[38;5;241m=\u001b[39mdo_handshake_on_connect,\n\u001b[1;32m    459\u001b[0m         suppress_ragged_eofs\u001b[38;5;241m=\u001b[39msuppress_ragged_eofs,\n\u001b[1;32m    460\u001b[0m         server_hostname\u001b[38;5;241m=\u001b[39mserver_hostname,\n\u001b[1;32m    461\u001b[0m         context\u001b[38;5;241m=\u001b[39m\u001b[38;5;28mself\u001b[39m,\n\u001b[1;32m    462\u001b[0m         session\u001b[38;5;241m=\u001b[39msession\n\u001b[1;32m    463\u001b[0m     )\n",
      "File \u001b[0;32m/opt/anaconda3/lib/python3.12/ssl.py:1042\u001b[0m, in \u001b[0;36mSSLSocket._create\u001b[0;34m(cls, sock, server_side, do_handshake_on_connect, suppress_ragged_eofs, server_hostname, context, session)\u001b[0m\n\u001b[1;32m   1039\u001b[0m             \u001b[38;5;28;01mif\u001b[39;00m timeout \u001b[38;5;241m==\u001b[39m \u001b[38;5;241m0.0\u001b[39m:\n\u001b[1;32m   1040\u001b[0m                 \u001b[38;5;66;03m# non-blocking\u001b[39;00m\n\u001b[1;32m   1041\u001b[0m                 \u001b[38;5;28;01mraise\u001b[39;00m \u001b[38;5;167;01mValueError\u001b[39;00m(\u001b[38;5;124m\"\u001b[39m\u001b[38;5;124mdo_handshake_on_connect should not be specified for non-blocking sockets\u001b[39m\u001b[38;5;124m\"\u001b[39m)\n\u001b[0;32m-> 1042\u001b[0m             \u001b[38;5;28mself\u001b[39m\u001b[38;5;241m.\u001b[39mdo_handshake()\n\u001b[1;32m   1043\u001b[0m \u001b[38;5;28;01mexcept\u001b[39;00m:\n\u001b[1;32m   1044\u001b[0m     \u001b[38;5;28;01mtry\u001b[39;00m:\n",
      "File \u001b[0;32m/opt/anaconda3/lib/python3.12/ssl.py:1320\u001b[0m, in \u001b[0;36mSSLSocket.do_handshake\u001b[0;34m(self, block)\u001b[0m\n\u001b[1;32m   1318\u001b[0m     \u001b[38;5;28;01mif\u001b[39;00m timeout \u001b[38;5;241m==\u001b[39m \u001b[38;5;241m0.0\u001b[39m \u001b[38;5;129;01mand\u001b[39;00m block:\n\u001b[1;32m   1319\u001b[0m         \u001b[38;5;28mself\u001b[39m\u001b[38;5;241m.\u001b[39msettimeout(\u001b[38;5;28;01mNone\u001b[39;00m)\n\u001b[0;32m-> 1320\u001b[0m     \u001b[38;5;28mself\u001b[39m\u001b[38;5;241m.\u001b[39m_sslobj\u001b[38;5;241m.\u001b[39mdo_handshake()\n\u001b[1;32m   1321\u001b[0m \u001b[38;5;28;01mfinally\u001b[39;00m:\n\u001b[1;32m   1322\u001b[0m     \u001b[38;5;28mself\u001b[39m\u001b[38;5;241m.\u001b[39msettimeout(timeout)\n",
      "\u001b[0;31mKeyboardInterrupt\u001b[0m: "
     ]
    }
   ],
   "source": [
    "# --- Cell 6: Control for 30 sec duration ---\n",
    "start_time = time.time()\n",
    "max_duration = 60  # seconds\n",
    "\n",
    "for idx, row in data.iterrows():\n",
    "    if time.time() - start_time > max_duration:\n",
    "        print('➡️ Maximum duration reached, stopping loop.')\n",
    "        break\n",
    "\n",
    "    risk_flag = RiskEvaluation(row)\n",
    "    if not risk_flag:\n",
    "        DisplayOnlyForIDXRowEtherRows(idx, row, False)\n",
    "        data.at[idx, 'alert_message'] = 'No alert needed'\n",
    "        continue\n",
    "\n",
    "    motion_flag, face_flag = check_camera_flags(duration=5)\n",
    "    print(f'[DEBUG] motion_detected={motion_flag}, face_detected={face_flag}')\n",
    "    print(f'[DEBUG] risk_flag={risk_flag}, camera_event={motion_flag and not face_flag}')\n",
    "\n",
    "    # Karar artık sadece risk varsa bile uyarı gönderir\n",
    "    decision_flag = True  # Çünkü risk_flag zaten True (kamera olayına bakmıyoruz)\n",
    "\n",
    "    if FinalDecisionLogic(decision_flag):  # veya direkt if decision_flag: da olur\n",
    "        DisplayOnlyForIDXRowEtherRows(idx, row, True)\n",
    "        msg = generate_alert_message(row)\n",
    "        print(f\"[DEBUG] generated_alert_msg={msg}\")  # opsiyonel\n",
    "        send_sms(msg)\n",
    "        data.at[idx, 'alert_message'] = msg\n",
    "    else:\n",
    "        DisplayOnlyForIDXRowEtherRows(idx, row, False)\n",
    "        data.at[idx, 'alert_message'] = 'No alert needed'"
   ]
  },
  {
   "cell_type": "code",
   "execution_count": null,
   "id": "4cb3c36f-ebf4-4ea0-b6cb-8491cf448435",
   "metadata": {
    "scrolled": true
   },
   "outputs": [],
   "source": [
    "# --- Cell 8: Print All ---\n",
    "print(data.head(100))\n"
   ]
  }
 ],
 "metadata": {
  "kernelspec": {
   "display_name": "Python [conda env:base] *",
   "language": "python",
   "name": "conda-base-py"
  },
  "language_info": {
   "codemirror_mode": {
    "name": "ipython",
    "version": 3
   },
   "file_extension": ".py",
   "mimetype": "text/x-python",
   "name": "python",
   "nbconvert_exporter": "python",
   "pygments_lexer": "ipython3",
   "version": "3.12.2"
  }
 },
 "nbformat": 4,
 "nbformat_minor": 5
}
Delete outdated code file
